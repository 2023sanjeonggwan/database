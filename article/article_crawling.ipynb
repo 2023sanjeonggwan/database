{
 "cells": [
  {
   "cell_type": "code",
   "execution_count": 1,
   "metadata": {
    "colab": {
     "base_uri": "https://localhost:8080/"
    },
    "id": "4BMPI4AJg-mo",
    "outputId": "4f288ef7-a026-4bc4-900e-4fb1f7d79ee1"
   },
   "outputs": [
    {
     "name": "stdout",
     "output_type": "stream",
     "text": [
      "Requirement already satisfied: requests in c:\\users\\may_2\\anaconda3\\lib\\site-packages (2.28.1)\n",
      "Requirement already satisfied: beautifulsoup4 in c:\\users\\may_2\\anaconda3\\lib\\site-packages (4.11.1)\n",
      "Requirement already satisfied: pandas in c:\\users\\may_2\\anaconda3\\lib\\site-packages (1.5.3)\n",
      "Requirement already satisfied: tqdm in c:\\users\\may_2\\anaconda3\\lib\\site-packages (4.64.1)\n",
      "Requirement already satisfied: certifi>=2017.4.17 in c:\\users\\may_2\\anaconda3\\lib\\site-packages (from requests) (2022.12.7)\n",
      "Requirement already satisfied: idna<4,>=2.5 in c:\\users\\may_2\\anaconda3\\lib\\site-packages (from requests) (3.4)\n",
      "Requirement already satisfied: urllib3<1.27,>=1.21.1 in c:\\users\\may_2\\anaconda3\\lib\\site-packages (from requests) (1.26.14)\n",
      "Requirement already satisfied: charset-normalizer<3,>=2 in c:\\users\\may_2\\anaconda3\\lib\\site-packages (from requests) (2.0.4)\n",
      "Requirement already satisfied: soupsieve>1.2 in c:\\users\\may_2\\anaconda3\\lib\\site-packages (from beautifulsoup4) (2.3.2.post1)\n",
      "Requirement already satisfied: pytz>=2020.1 in c:\\users\\may_2\\anaconda3\\lib\\site-packages (from pandas) (2022.7)\n",
      "Requirement already satisfied: numpy>=1.21.0 in c:\\users\\may_2\\anaconda3\\lib\\site-packages (from pandas) (1.23.5)\n",
      "Requirement already satisfied: python-dateutil>=2.8.1 in c:\\users\\may_2\\anaconda3\\lib\\site-packages (from pandas) (2.8.2)\n",
      "Requirement already satisfied: colorama in c:\\users\\may_2\\anaconda3\\lib\\site-packages (from tqdm) (0.4.6)\n",
      "Requirement already satisfied: six>=1.5 in c:\\users\\may_2\\anaconda3\\lib\\site-packages (from python-dateutil>=2.8.1->pandas) (1.16.0)\n",
      "Note: you may need to restart the kernel to use updated packages.\n"
     ]
    }
   ],
   "source": [
    "pip install requests beautifulsoup4 pandas tqdm"
   ]
  },
  {
   "cell_type": "code",
   "execution_count": 2,
   "metadata": {
    "colab": {
     "base_uri": "https://localhost:8080/"
    },
    "id": "5sasKntLxoLA",
    "outputId": "f8377bf9-7ea8-4c3c-d384-944643a09c5b"
   },
   "outputs": [
    {
     "name": "stdout",
     "output_type": "stream",
     "text": [
      "Requirement already satisfied: selenium in c:\\users\\may_2\\anaconda3\\lib\\site-packages (4.15.2)\n",
      "Requirement already satisfied: urllib3[socks]<3,>=1.26 in c:\\users\\may_2\\anaconda3\\lib\\site-packages (from selenium) (1.26.14)\n",
      "Requirement already satisfied: trio-websocket~=0.9 in c:\\users\\may_2\\anaconda3\\lib\\site-packages (from selenium) (0.11.1)\n",
      "Requirement already satisfied: trio~=0.17 in c:\\users\\may_2\\anaconda3\\lib\\site-packages (from selenium) (0.23.1)\n",
      "Requirement already satisfied: certifi>=2021.10.8 in c:\\users\\may_2\\anaconda3\\lib\\site-packages (from selenium) (2022.12.7)\n",
      "Requirement already satisfied: sortedcontainers in c:\\users\\may_2\\anaconda3\\lib\\site-packages (from trio~=0.17->selenium) (2.4.0)\n",
      "Requirement already satisfied: cffi>=1.14 in c:\\users\\may_2\\anaconda3\\lib\\site-packages (from trio~=0.17->selenium) (1.15.1)\n",
      "Requirement already satisfied: sniffio>=1.3.0 in c:\\users\\may_2\\anaconda3\\lib\\site-packages (from trio~=0.17->selenium) (1.3.0)\n",
      "Requirement already satisfied: attrs>=20.1.0 in c:\\users\\may_2\\anaconda3\\lib\\site-packages (from trio~=0.17->selenium) (22.1.0)\n",
      "Requirement already satisfied: idna in c:\\users\\may_2\\anaconda3\\lib\\site-packages (from trio~=0.17->selenium) (3.4)\n",
      "Requirement already satisfied: exceptiongroup>=1.0.0rc9 in c:\\users\\may_2\\anaconda3\\lib\\site-packages (from trio~=0.17->selenium) (1.2.0)\n",
      "Requirement already satisfied: outcome in c:\\users\\may_2\\anaconda3\\lib\\site-packages (from trio~=0.17->selenium) (1.3.0.post0)\n",
      "Requirement already satisfied: wsproto>=0.14 in c:\\users\\may_2\\anaconda3\\lib\\site-packages (from trio-websocket~=0.9->selenium) (1.2.0)\n",
      "Requirement already satisfied: PySocks!=1.5.7,<2.0,>=1.5.6 in c:\\users\\may_2\\anaconda3\\lib\\site-packages (from urllib3[socks]<3,>=1.26->selenium) (1.7.1)\n",
      "Requirement already satisfied: pycparser in c:\\users\\may_2\\anaconda3\\lib\\site-packages (from cffi>=1.14->trio~=0.17->selenium) (2.21)\n",
      "Requirement already satisfied: h11<1,>=0.9.0 in c:\\users\\may_2\\anaconda3\\lib\\site-packages (from wsproto>=0.14->trio-websocket~=0.9->selenium) (0.14.0)\n"
     ]
    }
   ],
   "source": [
    "!pip install selenium"
   ]
  },
  {
   "cell_type": "code",
   "execution_count": 3,
   "metadata": {
    "colab": {
     "base_uri": "https://localhost:8080/",
     "height": 741
    },
    "id": "h2ETLQtvncLc",
    "outputId": "3dcea71c-b91e-44df-acb1-0abbc4d9f338"
   },
   "outputs": [
    {
     "name": "stderr",
     "output_type": "stream",
     "text": [
      "Counting Likes and Comments: 100%|███████████████████████████████████████████████████████| 5/5 [00:49<00:00,  9.90s/it]"
     ]
    },
    {
     "name": "stdout",
     "output_type": "stream",
     "text": [
      "Like and comment counting and saving completed.\n"
     ]
    },
    {
     "name": "stderr",
     "output_type": "stream",
     "text": [
      "\n"
     ]
    }
   ],
   "source": [
    "import pandas as pd\n",
    "from selenium import webdriver\n",
    "from selenium.webdriver.common.by import By\n",
    "from tqdm import tqdm\n",
    "import time\n",
    "\n",
    "def extract_counts_with_selenium(article_url):\n",
    "    driver = webdriver.Chrome()\n",
    "\n",
    "    try:\n",
    "        driver.get(article_url)\n",
    "\n",
    "        time.sleep(1)\n",
    "\n",
    "        try:\n",
    "            like_count_element = driver.find_element(By.CSS_SELECTOR, 'span.u_likeit_text._count.num')\n",
    "            like_count = like_count_element.text.replace(',', '')\n",
    "        except:\n",
    "            like_count = 0\n",
    "\n",
    "        try:\n",
    "            comment_count_element = driver.find_element(By.CSS_SELECTOR, 'span.u_cbox_count')\n",
    "            comment_count = comment_count_element.text.replace(',', '')\n",
    "        except:\n",
    "            comment_count = 0\n",
    "    finally:\n",
    "        driver.quit()\n",
    "\n",
    "    return like_count, comment_count\n",
    "\n",
    "# 경로 설정\n",
    "csv_path = 'C:/Users/may_2/Documents/23-2 산정관/팀플/article_info_032_easy.csv'\n",
    "df = pd.read_csv(csv_path, encoding='utf-8')\n",
    "\n",
    "like_numbers = []\n",
    "comment_numbers = []\n",
    "\n",
    "for article_url in tqdm(df['Link'], desc='Counting Likes and Comments'):\n",
    "    try:\n",
    "        like_count, comment_count = extract_counts_with_selenium(article_url)\n",
    "        like_numbers.append(like_count)\n",
    "        comment_numbers.append(comment_count)\n",
    "    except Exception as e:\n",
    "        print(f\"Error counting likes and comments for {article_url}: {str(e)}\")\n",
    "\n",
    "    time.sleep(1)\n",
    "\n",
    "df['LikeNumber'] = like_numbers\n",
    "df['CommentNumber'] = comment_numbers\n",
    "\n",
    "# 이름 설정\n",
    "df.to_csv('articles_result_easy_032.csv', index=False, encoding='utf-8-sig')\n",
    "print(\"Like and comment counting and saving completed.\")"
   ]
  },
  {
   "cell_type": "code",
   "execution_count": 4,
   "metadata": {
    "colab": {
     "base_uri": "https://localhost:8080/",
     "height": 677
    },
    "id": "bc7cCn7nn1ye",
    "outputId": "e932a7a7-a318-4505-e2af-b314c05776c6"
   },
   "outputs": [
    {
     "data": {
      "text/html": [
       "<div>\n",
       "<style scoped>\n",
       "    .dataframe tbody tr th:only-of-type {\n",
       "        vertical-align: middle;\n",
       "    }\n",
       "\n",
       "    .dataframe tbody tr th {\n",
       "        vertical-align: top;\n",
       "    }\n",
       "\n",
       "    .dataframe thead th {\n",
       "        text-align: right;\n",
       "    }\n",
       "</style>\n",
       "<table border=\"1\" class=\"dataframe\">\n",
       "  <thead>\n",
       "    <tr style=\"text-align: right;\">\n",
       "      <th></th>\n",
       "      <th>Link</th>\n",
       "      <th>Time</th>\n",
       "      <th>Press</th>\n",
       "      <th>Journalist</th>\n",
       "      <th>Article_Text</th>\n",
       "      <th>Category</th>\n",
       "      <th>LikeNumber</th>\n",
       "      <th>CommentNumber</th>\n",
       "    </tr>\n",
       "  </thead>\n",
       "  <tbody>\n",
       "    <tr>\n",
       "      <th>0</th>\n",
       "      <td>https://n.news.naver.com/article/032/000325848...</td>\n",
       "      <td>10:41:01</td>\n",
       "      <td>경향신문</td>\n",
       "      <td>탁지영</td>\n",
       "      <td>“병사들 갖고 장난···비정한 정부\\r\\n특활비 감축 지적을 받아들여야”\\r\\n이재...</td>\n",
       "      <td>정치</td>\n",
       "      <td>1095</td>\n",
       "      <td>1461</td>\n",
       "    </tr>\n",
       "    <tr>\n",
       "      <th>1</th>\n",
       "      <td>https://n.news.naver.com/article/032/000325847...</td>\n",
       "      <td>10:32:01</td>\n",
       "      <td>경향신문</td>\n",
       "      <td>문광호</td>\n",
       "      <td>“국비 지원 비율 줄어 사업 추진 가능성 낮아져”\\r\\n이준석 국민의힘 전 대표가 ...</td>\n",
       "      <td>정치</td>\n",
       "      <td>1019</td>\n",
       "      <td>1372</td>\n",
       "    </tr>\n",
       "    <tr>\n",
       "      <th>2</th>\n",
       "      <td>https://n.news.naver.com/article/032/000325846...</td>\n",
       "      <td>8:35:10</td>\n",
       "      <td>경향신문</td>\n",
       "      <td>NaN</td>\n",
       "      <td>윤 대통령 시정연설 후 악수 청할 때\\r\\n김용민 “그만두셔야죠” 발언 알려져\\r\\...</td>\n",
       "      <td>정치</td>\n",
       "      <td>141</td>\n",
       "      <td>445</td>\n",
       "    </tr>\n",
       "    <tr>\n",
       "      <th>3</th>\n",
       "      <td>https://n.news.naver.com/article/032/000325861...</td>\n",
       "      <td>18:19:01</td>\n",
       "      <td>경향신문</td>\n",
       "      <td>유설희</td>\n",
       "      <td>윤 대통령 비상경제민생회의 발언\\r\\n“은행 독과점, 정부가 방치 안 돼\\r\\n“카...</td>\n",
       "      <td>정치</td>\n",
       "      <td>89</td>\n",
       "      <td>484</td>\n",
       "    </tr>\n",
       "    <tr>\n",
       "      <th>4</th>\n",
       "      <td>https://n.news.naver.com/article/032/000325845...</td>\n",
       "      <td>6:01:01</td>\n",
       "      <td>경향신문</td>\n",
       "      <td>박주연</td>\n",
       "      <td>오세훈 서울시장\\r\\n지난 26일 서울 중구 태평로 서울특별시청 시장 집무실에서 만...</td>\n",
       "      <td>정치</td>\n",
       "      <td>77</td>\n",
       "      <td>222</td>\n",
       "    </tr>\n",
       "  </tbody>\n",
       "</table>\n",
       "</div>"
      ],
      "text/plain": [
       "                                                Link      Time Press  \\\n",
       "0  https://n.news.naver.com/article/032/000325848...  10:41:01  경향신문   \n",
       "1  https://n.news.naver.com/article/032/000325847...  10:32:01  경향신문   \n",
       "2  https://n.news.naver.com/article/032/000325846...   8:35:10  경향신문   \n",
       "3  https://n.news.naver.com/article/032/000325861...  18:19:01  경향신문   \n",
       "4  https://n.news.naver.com/article/032/000325845...   6:01:01  경향신문   \n",
       "\n",
       "  Journalist                                       Article_Text Category  \\\n",
       "0        탁지영  “병사들 갖고 장난···비정한 정부\\r\\n특활비 감축 지적을 받아들여야”\\r\\n이재...       정치   \n",
       "1        문광호  “국비 지원 비율 줄어 사업 추진 가능성 낮아져”\\r\\n이준석 국민의힘 전 대표가 ...       정치   \n",
       "2        NaN  윤 대통령 시정연설 후 악수 청할 때\\r\\n김용민 “그만두셔야죠” 발언 알려져\\r\\...       정치   \n",
       "3        유설희  윤 대통령 비상경제민생회의 발언\\r\\n“은행 독과점, 정부가 방치 안 돼\\r\\n“카...       정치   \n",
       "4        박주연  오세훈 서울시장\\r\\n지난 26일 서울 중구 태평로 서울특별시청 시장 집무실에서 만...       정치   \n",
       "\n",
       "   LikeNumber  CommentNumber  \n",
       "0        1095           1461  \n",
       "1        1019           1372  \n",
       "2         141            445  \n",
       "3          89            484  \n",
       "4          77            222  "
      ]
     },
     "execution_count": 4,
     "metadata": {},
     "output_type": "execute_result"
    }
   ],
   "source": [
    "import pandas as pd\n",
    "\n",
    "csv_path = 'C:/Users/may_2/Documents/23-2 산정관/팀플/articles_result_easy_032.csv'  # 파일 경로에 맞게 수정\n",
    "df = pd.read_csv(csv_path, encoding='utf-8')\n",
    "df.head()"
   ]
  },
  {
   "cell_type": "code",
   "execution_count": null,
   "metadata": {},
   "outputs": [],
   "source": []
  }
 ],
 "metadata": {
  "colab": {
   "provenance": []
  },
  "kernelspec": {
   "display_name": "Python 3 (ipykernel)",
   "language": "python",
   "name": "python3"
  },
  "language_info": {
   "codemirror_mode": {
    "name": "ipython",
    "version": 3
   },
   "file_extension": ".py",
   "mimetype": "text/x-python",
   "name": "python",
   "nbconvert_exporter": "python",
   "pygments_lexer": "ipython3",
   "version": "3.10.9"
  }
 },
 "nbformat": 4,
 "nbformat_minor": 1
}
